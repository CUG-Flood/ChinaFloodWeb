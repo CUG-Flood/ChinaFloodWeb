{
 "cells": [
  {
   "cell_type": "code",
   "execution_count": 2,
   "id": "5a2e6bb2-f75b-4e92-9591-d83afc19487b",
   "metadata": {
    "tags": []
   },
   "outputs": [],
   "source": [
    "# import folium\n",
    "import streamlit as st\n",
    "from streamlit_folium import st_folium, folium_static\n",
    "import leafmap.foliumap as leafmap\n"
   ]
  },
  {
   "cell_type": "code",
   "execution_count": 7,
   "id": "837cd68e-9974-42f7-b535-52aab62d9154",
   "metadata": {
    "tags": []
   },
   "outputs": [
    {
     "name": "stdout",
     "output_type": "stream",
     "text": [
      "1\n"
     ]
    }
   ],
   "source": [
    "# !pip install folium\n",
    "\n"
   ]
  }
 ],
 "metadata": {
  "kernelspec": {
   "display_name": "geo",
   "language": "python",
   "name": "python3"
  },
  "language_info": {
   "codemirror_mode": {
    "name": "ipython",
    "version": 3
   },
   "file_extension": ".py",
   "mimetype": "text/x-python",
   "name": "python",
   "nbconvert_exporter": "python",
   "pygments_lexer": "ipython3",
   "version": "3.11.4"
  }
 },
 "nbformat": 4,
 "nbformat_minor": 5
}
