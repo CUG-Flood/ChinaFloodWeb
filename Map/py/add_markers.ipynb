{
 "cells": [
  {
   "cell_type": "code",
   "execution_count": 3,
   "id": "609227f6-b673-4e9c-aeec-49220206eaee",
   "metadata": {
    "tags": []
   },
   "outputs": [],
   "source": [
    "import os\n",
    "os.getcwd()\n",
    "os.chdir(\"..\")"
   ]
  },
  {
   "cell_type": "code",
   "execution_count": 5,
   "id": "46e54be5-676f-4ac8-b9b1-8d55250e9c47",
   "metadata": {
    "tags": []
   },
   "outputs": [],
   "source": [
    "# %%\n",
    "# import folium\n",
    "# from folium import Map, Marker\n",
    "from ipyleaflet import *\n",
    "import ipyleaflet\n",
    "from ipyleaflet import leaflet\n",
    "\n",
    "# import streamlit as st\n",
    "# import leafmap.foliumap as leafmap\n",
    "# from streamlit_folium import st_folium, folium_static\n",
    "# st.set_page_config(layout=\"wide\")\n",
    "# %%\n",
    "from pages.floodmap import *\n",
    "\n",
    "# # 获取所有站点\n",
    "# db = DataBase()  # auto login\n",
    "# stationInfo = db.read_table(\"st_daily_met2481\")\n",
    "\n",
    "# stationInfo.to_csv(\"st_2481.csv\", index=False)\n",
    "# db.close()\n",
    "\n",
    "df = pd.read_csv(\"st_2481.csv\")\n",
    "df\n",
    "\n",
    "points = []\n",
    "\n",
    "for i in range(0, len(df.index)):\n",
    "    i = - 1\n",
    "    d = df.iloc[i]\n",
    "    p = (d.lat, d.lon)\n",
    "    points.append(p)\n",
    "\n",
    "# print(points)\n",
    "# %%\n",
    "\n",
    "def point_click(event, type, coordinates):\n",
    "    print(event, type, coordinates)\n",
    "\n",
    "\n",
    "# map\n"
   ]
  },
  {
   "cell_type": "code",
   "execution_count": null,
   "id": "c437122b-2a1b-4ebe-b224-64047584bc9b",
   "metadata": {},
   "outputs": [],
   "source": []
  },
  {
   "cell_type": "code",
   "execution_count": 8,
   "id": "cf1d7e9a-6f1f-4a68-a198-433f760b96f7",
   "metadata": {
    "tags": []
   },
   "outputs": [
    {
     "data": {
      "application/vnd.jupyter.widget-view+json": {
       "model_id": "3335160d58ee41c48d8205c0c53d338c",
       "version_major": 2,
       "version_minor": 0
      },
      "text/plain": [
       "Map(center=[30, 110], controls=(ZoomControl(options=['position', 'zoom_in_text', 'zoom_in_title', 'zoom_out_te…"
      ]
     },
     "metadata": {},
     "output_type": "display_data"
    }
   ],
   "source": [
    "def add_markers(m):\n",
    "    \n",
    "    markers = []\n",
    "    for i in range(len(points)):\n",
    "        loc = (points[i][0], points[i][1])\n",
    "        new_marker = Marker(location=loc) # , draggable=False\n",
    "\n",
    "        new_marker.on_click(point_click)\n",
    "        m.add_layer(new_marker)\n",
    "        markers.append(new_marker)\n",
    "        \n",
    "    cluster = MarkerCluster(markers=markers)\n",
    "    # print(cluster)\n",
    "    # m.add_layer(cluster)\n",
    "    return m\n",
    "\n",
    "# map = L.Map(center=(51.476852, -0.000500), zoom=12, scroll_wheel_zoom=True)\n",
    "# Add a distance scale\n",
    "\n",
    "capitol_loc = (30, 110)\n",
    "map = ipyleaflet.Map(center=(capitol_loc), zoom=5) \n",
    "map.add_control(leaflet.ScaleControl(position=\"bottomleft\"))\n",
    "\n",
    "# map = \n",
    "add_markers(map)\n",
    "map\n"
   ]
  }
 ],
 "metadata": {
  "kernelspec": {
   "display_name": "rgee",
   "language": "python",
   "name": "rgee"
  },
  "language_info": {
   "codemirror_mode": {
    "name": "ipython",
    "version": 3
   },
   "file_extension": ".py",
   "mimetype": "text/x-python",
   "name": "python",
   "nbconvert_exporter": "python",
   "pygments_lexer": "ipython3",
   "version": "3.10.8"
  }
 },
 "nbformat": 4,
 "nbformat_minor": 5
}
